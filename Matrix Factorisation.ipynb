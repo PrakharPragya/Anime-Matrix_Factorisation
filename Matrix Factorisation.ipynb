{
 "cells": [
  {
   "cell_type": "code",
   "execution_count": 5,
   "metadata": {},
   "outputs": [],
   "source": [
    "import numpy as np\n",
    "import pandas as pd\n",
    "from collections import Counter \n",
    "from scipy import sparse\n",
    "from sklearn.model_selection import train_test_split"
   ]
  },
  {
   "cell_type": "code",
   "execution_count": 6,
   "metadata": {},
   "outputs": [
    {
     "data": {
      "text/html": [
       "<div>\n",
       "<style scoped>\n",
       "    .dataframe tbody tr th:only-of-type {\n",
       "        vertical-align: middle;\n",
       "    }\n",
       "\n",
       "    .dataframe tbody tr th {\n",
       "        vertical-align: top;\n",
       "    }\n",
       "\n",
       "    .dataframe thead th {\n",
       "        text-align: right;\n",
       "    }\n",
       "</style>\n",
       "<table border=\"1\" class=\"dataframe\">\n",
       "  <thead>\n",
       "    <tr style=\"text-align: right;\">\n",
       "      <th></th>\n",
       "      <th>user_id</th>\n",
       "      <th>anime_id</th>\n",
       "      <th>rating</th>\n",
       "    </tr>\n",
       "  </thead>\n",
       "  <tbody>\n",
       "    <tr>\n",
       "      <th>0</th>\n",
       "      <td>1</td>\n",
       "      <td>20</td>\n",
       "      <td>-1</td>\n",
       "    </tr>\n",
       "    <tr>\n",
       "      <th>1</th>\n",
       "      <td>1</td>\n",
       "      <td>24</td>\n",
       "      <td>-1</td>\n",
       "    </tr>\n",
       "    <tr>\n",
       "      <th>2</th>\n",
       "      <td>1</td>\n",
       "      <td>79</td>\n",
       "      <td>-1</td>\n",
       "    </tr>\n",
       "    <tr>\n",
       "      <th>3</th>\n",
       "      <td>1</td>\n",
       "      <td>226</td>\n",
       "      <td>-1</td>\n",
       "    </tr>\n",
       "    <tr>\n",
       "      <th>4</th>\n",
       "      <td>1</td>\n",
       "      <td>241</td>\n",
       "      <td>-1</td>\n",
       "    </tr>\n",
       "  </tbody>\n",
       "</table>\n",
       "</div>"
      ],
      "text/plain": [
       "   user_id  anime_id  rating\n",
       "0        1        20      -1\n",
       "1        1        24      -1\n",
       "2        1        79      -1\n",
       "3        1       226      -1\n",
       "4        1       241      -1"
      ]
     },
     "execution_count": 6,
     "metadata": {},
     "output_type": "execute_result"
    }
   ],
   "source": [
    "anime_ratings_df = pd.read_csv(\"Downloads/rating.csv\")\n",
    "anime_ratings_df.head()"
   ]
  },
  {
   "cell_type": "code",
   "execution_count": 7,
   "metadata": {},
   "outputs": [
    {
     "data": {
      "text/html": [
       "<div>\n",
       "<style scoped>\n",
       "    .dataframe tbody tr th:only-of-type {\n",
       "        vertical-align: middle;\n",
       "    }\n",
       "\n",
       "    .dataframe tbody tr th {\n",
       "        vertical-align: top;\n",
       "    }\n",
       "\n",
       "    .dataframe thead th {\n",
       "        text-align: right;\n",
       "    }\n",
       "</style>\n",
       "<table border=\"1\" class=\"dataframe\">\n",
       "  <thead>\n",
       "    <tr style=\"text-align: right;\">\n",
       "      <th></th>\n",
       "      <th>user_id</th>\n",
       "      <th>anime_id</th>\n",
       "      <th>rating</th>\n",
       "    </tr>\n",
       "  </thead>\n",
       "  <tbody>\n",
       "    <tr>\n",
       "      <th>0</th>\n",
       "      <td>1</td>\n",
       "      <td>8074</td>\n",
       "      <td>10</td>\n",
       "    </tr>\n",
       "    <tr>\n",
       "      <th>1</th>\n",
       "      <td>1</td>\n",
       "      <td>11617</td>\n",
       "      <td>10</td>\n",
       "    </tr>\n",
       "    <tr>\n",
       "      <th>2</th>\n",
       "      <td>1</td>\n",
       "      <td>11757</td>\n",
       "      <td>10</td>\n",
       "    </tr>\n",
       "    <tr>\n",
       "      <th>3</th>\n",
       "      <td>1</td>\n",
       "      <td>15451</td>\n",
       "      <td>10</td>\n",
       "    </tr>\n",
       "    <tr>\n",
       "      <th>4</th>\n",
       "      <td>2</td>\n",
       "      <td>11771</td>\n",
       "      <td>10</td>\n",
       "    </tr>\n",
       "  </tbody>\n",
       "</table>\n",
       "</div>"
      ],
      "text/plain": [
       "   user_id  anime_id  rating\n",
       "0        1      8074      10\n",
       "1        1     11617      10\n",
       "2        1     11757      10\n",
       "3        1     15451      10\n",
       "4        2     11771      10"
      ]
     },
     "execution_count": 7,
     "metadata": {},
     "output_type": "execute_result"
    }
   ],
   "source": [
    "#lets get rid of the missing ratings i.e. -1\n",
    "arating = anime_ratings_df.loc[anime_ratings_df.rating != -1].reset_index()[['user_id','anime_id','rating']]\n",
    "arating.head()"
   ]
  },
  {
   "cell_type": "code",
   "execution_count": 8,
   "metadata": {},
   "outputs": [
    {
     "data": {
      "text/plain": [
       "Counter({10: 955715,\n",
       "         8: 1646019,\n",
       "         6: 637775,\n",
       "         9: 1254096,\n",
       "         7: 1375287,\n",
       "         3: 41453,\n",
       "         5: 282806,\n",
       "         4: 104291,\n",
       "         1: 16649,\n",
       "         2: 23150})"
      ]
     },
     "execution_count": 8,
     "metadata": {},
     "output_type": "execute_result"
    }
   ],
   "source": [
    "#distribution of rating\n",
    "Counter(arating.rating)"
   ]
  },
  {
   "cell_type": "code",
   "execution_count": 9,
   "metadata": {},
   "outputs": [
    {
     "data": {
      "text/plain": [
       "91.05231321839081"
      ]
     },
     "execution_count": 9,
     "metadata": {},
     "output_type": "execute_result"
    }
   ],
   "source": [
    "#average number of ratings per user\n",
    "np.mean(arating.groupby(['user_id']).count()['anime_id'])"
   ]
  },
  {
   "cell_type": "code",
   "execution_count": 10,
   "metadata": {},
   "outputs": [],
   "source": [
    "train_df, valid_df = train_test_split(arating, test_size=0.3)\n",
    "\n",
    "#resetting indices\n",
    "train_df = train_df.reset_index()[['user_id', 'anime_id', 'rating']]\n",
    "valid_df = valid_df.reset_index()[['user_id', 'anime_id', 'rating']]"
   ]
  },
  {
   "cell_type": "markdown",
   "metadata": {},
   "source": [
    "To create our user and item embeddings, we need continuous IDs to be able to index into the embedding matrix and access each user/item embedding"
   ]
  },
  {
   "cell_type": "code",
   "execution_count": 12,
   "metadata": {},
   "outputs": [],
   "source": [
    "def encode_column(column):\n",
    "    #encoding column with continous IDs\n",
    "    \n",
    "    keys = column.unique()\n",
    "    key_to_id = {key:index for index, key in enumerate(keys)}\n",
    "    return key_to_id, np.array([key_to_id[x] for x in column]), len(keys)"
   ]
  },
  {
   "cell_type": "code",
   "execution_count": 16,
   "metadata": {},
   "outputs": [],
   "source": [
    "def encode_df(anime_df):\n",
    "    #encodes rating data with continous user and anime ids\n",
    "    \n",
    "    anime_ids, anime_df['anime_id'], num_anime = encode_column(anime_df['anime_id'])\n",
    "    user_ids, anime_df['user_id'], num_users = encode_column(anime_df['user_id'])\n",
    "    return anime_df, num_users, num_anime, user_ids, anime_ids"
   ]
  },
  {
   "cell_type": "code",
   "execution_count": 17,
   "metadata": {},
   "outputs": [
    {
     "name": "stdout",
     "output_type": "stream",
     "text": [
      "the total number of users : 68391\n",
      "the total number of anime : 9617\n"
     ]
    }
   ],
   "source": [
    "anime_df, num_users, num_anime, user_ids, anime_ids = encode_df(train_df)\n",
    "print(\"the total number of users :\", num_users)\n",
    "print(\"the total number of anime :\", num_anime)"
   ]
  },
  {
   "cell_type": "markdown",
   "metadata": {},
   "source": [
    "Now we shall initialize user and item embeddings"
   ]
  },
  {
   "cell_type": "code",
   "execution_count": 18,
   "metadata": {},
   "outputs": [],
   "source": [
    "def create_embeddings(n, f):\n",
    "    #here f is the number of factors in the embedding and n is the number of items\n",
    "    # we are creating a random numpy matrix of shape n,f\n",
    "    \n",
    "    return 11*np.random.random((n,f))/f"
   ]
  },
  {
   "cell_type": "code",
   "execution_count": 20,
   "metadata": {},
   "outputs": [],
   "source": [
    "def create_sparse_matrix(df, rows, cols, col_name = \"rating\"):\n",
    "    return sparse.csc_matrix((df[col_name].values,(df['user_id'].values, df['anime_id'].values)),shape=(rows, cols))"
   ]
  },
  {
   "cell_type": "code",
   "execution_count": 21,
   "metadata": {},
   "outputs": [],
   "source": [
    "anime_df, num_users, num_anime, user_ids, anime_ids = encode_df(train_df)\n",
    "Y = create_sparse_matrix(anime_df, num_users, num_anime)"
   ]
  },
  {
   "cell_type": "markdown",
   "metadata": {},
   "source": [
    "Now we make predictions"
   ]
  },
  {
   "cell_type": "code",
   "execution_count": 23,
   "metadata": {},
   "outputs": [],
   "source": [
    "def predict(df, emb_user, emb_anime):\n",
    "    \n",
    "    df['prediction'] = np.sum(np.multiply(emb_anime[df['anime_id']],emb_user[df['user_id']]), axis=1)\n",
    "    return df"
   ]
  },
  {
   "cell_type": "code",
   "execution_count": 29,
   "metadata": {},
   "outputs": [],
   "source": [
    "laambda = 0.0003 #cost\n",
    "def cost(df, emb_user, emb_anime):\n",
    "    Y = create_sparse_matrix(df, emb_user.shape[0], emb_anime.shape[0])\n",
    "    predicted = create_sparse_matrix(predict(df, emb_user, emb_anime), emb_user.shape[0], emb_anime.shape[0], 'prediction')\n",
    "    return np.sum((Y-predicted).power(2))/df.shape[0] "
   ]
  },
  {
   "cell_type": "markdown",
   "metadata": {},
   "source": [
    "# Gradient Descent"
   ]
  },
  {
   "cell_type": "code",
   "execution_count": 30,
   "metadata": {},
   "outputs": [],
   "source": [
    "def gradient(df, emb_user, emb_anime):\n",
    "    #Computes the gradient for user and anime embeddings\n",
    "    Y = create_sparse_matrix(df, emb_user.shape[0], emb_anime.shape[0])\n",
    "    predicted = create_sparse_matrix(predict(df, emb_user, emb_anime), emb_user.shape[0], emb_anime.shape[0], 'prediction')\n",
    "    delta =(Y-predicted)\n",
    "    grad_user = (-2/df.shape[0])*(delta*emb_anime) + 2*laambda*emb_user\n",
    "    grad_anime = (-2/df.shape[0])*(delta.T*emb_user) + 2*laambda*emb_anime\n",
    "    return grad_user, grad_anime"
   ]
  },
  {
   "cell_type": "code",
   "execution_count": 31,
   "metadata": {},
   "outputs": [],
   "source": [
    "def gradient_desc(df,emb_user, emb_anime, iterations = 1800, learning_rate = 0.02, df_val = None):\n",
    "    \n",
    "    Y = create_sparse_matrix(df, emb_user.shape[0], emb_anime.shape[0])\n",
    "    beta = 0.8\n",
    "    grad_user, grad_anime = gradient(df, emb_user, emb_anime)\n",
    "    g_user = grad_user\n",
    "    g_anime = grad_anime\n",
    "    for i in range(iterations):\n",
    "        grad_user, grad_anime = gradient(df, emb_user, emb_anime)\n",
    "        g_user = beta*g_user + (1-beta)*grad_user\n",
    "        g_anime = beta*g_anime + (1-beta)*grad_anime\n",
    "        emb_user = emb_user - learning_rate*g_user\n",
    "        emb_anime = emb_anime - learning_rate*g_anime\n",
    "        if(not (i+1)%50):\n",
    "            print(\"\\niteration\", i+1, \":\")\n",
    "            print(\"train mse:\",  cost(df, emb_user, emb_anime))\n",
    "            if df_val is not None:\n",
    "                print(\"validation mse:\",  cost(df_val, emb_user, emb_anime))\n",
    "    return emb_user, emb_anime\n",
    "    "
   ]
  },
  {
   "cell_type": "code",
   "execution_count": 32,
   "metadata": {},
   "outputs": [
    {
     "name": "stdout",
     "output_type": "stream",
     "text": [
      "\n",
      "iteration 50 :\n",
      "train mse: 16.382841554013293\n",
      "\n",
      "iteration 100 :\n",
      "train mse: 12.31153814670948\n",
      "\n",
      "iteration 150 :\n",
      "train mse: 10.430926780865828\n",
      "\n",
      "iteration 200 :\n",
      "train mse: 9.356311298737898\n",
      "\n",
      "iteration 250 :\n",
      "train mse: 8.673233367517696\n",
      "\n",
      "iteration 300 :\n",
      "train mse: 8.211226031616302\n",
      "\n",
      "iteration 350 :\n",
      "train mse: 7.886732316843702\n",
      "\n",
      "iteration 400 :\n",
      "train mse: 7.653900223676979\n",
      "\n",
      "iteration 450 :\n",
      "train mse: 7.485513621704669\n",
      "\n",
      "iteration 500 :\n",
      "train mse: 7.3644612809248455\n",
      "\n",
      "iteration 550 :\n",
      "train mse: 7.279500956398716\n",
      "\n",
      "iteration 600 :\n",
      "train mse: 7.222982785293564\n",
      "\n",
      "iteration 650 :\n",
      "train mse: 7.189547441929115\n",
      "\n",
      "iteration 700 :\n",
      "train mse: 7.175343807546137\n",
      "\n",
      "iteration 750 :\n",
      "train mse: 7.177539471302398\n",
      "\n",
      "iteration 800 :\n",
      "train mse: 7.194004125191452\n",
      "\n",
      "iteration 850 :\n",
      "train mse: 7.223099097891278\n",
      "\n",
      "iteration 900 :\n",
      "train mse: 7.263534243558595\n"
     ]
    }
   ],
   "source": [
    "emb_user = create_embeddings(num_users, 3)\n",
    "emb_anime = create_embeddings(num_anime, 3)\n",
    "emb_user, emb_anime = gradient_desc(anime_df, emb_user, emb_anime, iterations=900, learning_rate=0.9)"
   ]
  },
  {
   "cell_type": "markdown",
   "metadata": {},
   "source": [
    "To avoid cold case problem, we remove the data we have not encountered before."
   ]
  },
  {
   "cell_type": "code",
   "execution_count": 44,
   "metadata": {},
   "outputs": [],
   "source": [
    "def encode_new(valid_df, user_ids, anime_ids):\n",
    "   \n",
    "    df_val = valid_df['anime_id'].isin(anime_ids.keys()) & valid_df['user_id'].isin(user_ids.keys())\n",
    "    valid_df = valid_df[df_val]\n",
    "    valid_df['anime_id'] =  np.array([anime_ids[x] for x in valid_df['anime_id']])\n",
    "    valid_df['user_id'] = np.array([user_ids[x] for x in valid_df['user_id']])\n",
    "    return valid_df"
   ]
  },
  {
   "cell_type": "code",
   "execution_count": 45,
   "metadata": {
    "scrolled": true
   },
   "outputs": [
    {
     "name": "stdout",
     "output_type": "stream",
     "text": [
      "before encoding: (1106669, 4)\n",
      "after encoding: (1106669, 4)\n"
     ]
    }
   ],
   "source": [
    "print(\"before encoding:\", valid_df.shape)\n",
    "valid_df = encode_new(valid_df, user_ids, anime_ids)\n",
    "print(\"after encoding:\", valid_df.shape)"
   ]
  },
  {
   "cell_type": "code",
   "execution_count": 46,
   "metadata": {},
   "outputs": [
    {
     "name": "stdout",
     "output_type": "stream",
     "text": [
      "7.263534243558595 15.498480884859747\n"
     ]
    }
   ],
   "source": [
    "train_mse = cost(train_df, emb_user, emb_anime)\n",
    "val_mse = cost(valid_df, emb_user, emb_anime)\n",
    "print(train_mse, val_mse)"
   ]
  },
  {
   "cell_type": "code",
   "execution_count": 47,
   "metadata": {},
   "outputs": [
    {
     "data": {
      "text/html": [
       "<div>\n",
       "<style scoped>\n",
       "    .dataframe tbody tr th:only-of-type {\n",
       "        vertical-align: middle;\n",
       "    }\n",
       "\n",
       "    .dataframe tbody tr th {\n",
       "        vertical-align: top;\n",
       "    }\n",
       "\n",
       "    .dataframe thead th {\n",
       "        text-align: right;\n",
       "    }\n",
       "</style>\n",
       "<table border=\"1\" class=\"dataframe\">\n",
       "  <thead>\n",
       "    <tr style=\"text-align: right;\">\n",
       "      <th></th>\n",
       "      <th>user_id</th>\n",
       "      <th>anime_id</th>\n",
       "      <th>rating</th>\n",
       "      <th>prediction</th>\n",
       "    </tr>\n",
       "  </thead>\n",
       "  <tbody>\n",
       "    <tr>\n",
       "      <th>104</th>\n",
       "      <td>35919</td>\n",
       "      <td>3167</td>\n",
       "      <td>8</td>\n",
       "      <td>4.173755</td>\n",
       "    </tr>\n",
       "    <tr>\n",
       "      <th>105</th>\n",
       "      <td>52014</td>\n",
       "      <td>389</td>\n",
       "      <td>10</td>\n",
       "      <td>6.233698</td>\n",
       "    </tr>\n",
       "    <tr>\n",
       "      <th>107</th>\n",
       "      <td>54927</td>\n",
       "      <td>853</td>\n",
       "      <td>8</td>\n",
       "      <td>6.831016</td>\n",
       "    </tr>\n",
       "    <tr>\n",
       "      <th>110</th>\n",
       "      <td>15393</td>\n",
       "      <td>6702</td>\n",
       "      <td>10</td>\n",
       "      <td>4.549511</td>\n",
       "    </tr>\n",
       "    <tr>\n",
       "      <th>111</th>\n",
       "      <td>30904</td>\n",
       "      <td>6166</td>\n",
       "      <td>7</td>\n",
       "      <td>3.542834</td>\n",
       "    </tr>\n",
       "  </tbody>\n",
       "</table>\n",
       "</div>"
      ],
      "text/plain": [
       "     user_id  anime_id  rating  prediction\n",
       "104    35919      3167       8    4.173755\n",
       "105    52014       389      10    6.233698\n",
       "107    54927       853       8    6.831016\n",
       "110    15393      6702      10    4.549511\n",
       "111    30904      6166       7    3.542834"
      ]
     },
     "execution_count": 47,
     "metadata": {},
     "output_type": "execute_result"
    }
   ],
   "source": [
    "valid_df[60:70].head()"
   ]
  },
  {
   "cell_type": "code",
   "execution_count": null,
   "metadata": {},
   "outputs": [],
   "source": []
  }
 ],
 "metadata": {
  "kernelspec": {
   "display_name": "Python 3",
   "language": "python",
   "name": "python3"
  },
  "language_info": {
   "codemirror_mode": {
    "name": "ipython",
    "version": 3
   },
   "file_extension": ".py",
   "mimetype": "text/x-python",
   "name": "python",
   "nbconvert_exporter": "python",
   "pygments_lexer": "ipython3",
   "version": "3.7.6"
  }
 },
 "nbformat": 4,
 "nbformat_minor": 4
}
